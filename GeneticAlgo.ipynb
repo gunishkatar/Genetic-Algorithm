{
 "cells": [
  {
   "cell_type": "markdown",
   "metadata": {},
   "source": [
    "## Importing Libraries"
   ]
  },
  {
   "cell_type": "code",
   "execution_count": 1,
   "metadata": {},
   "outputs": [],
   "source": [
    "import numpy as np\n",
    "from matplotlib import pyplot as plt\n",
    "%matplotlib inline\n",
    "import random\n",
    "import seaborn as sns"
   ]
  },
  {
   "cell_type": "markdown",
   "metadata": {},
   "source": [
    "## Defining parameters"
   ]
  },
  {
   "cell_type": "code",
   "execution_count": 2,
   "metadata": {},
   "outputs": [],
   "source": [
    "# Define some initial params\n",
    "# Dimensionality\n",
    "Dn = 20\n",
    "\n",
    "# Mutation probability\n",
    "M = 0.1\n",
    "\n",
    "# Population size\n",
    "NP = 500\n",
    "\n",
    "# No. of generations\n",
    "G = 200"
   ]
  },
  {
   "cell_type": "markdown",
   "metadata": {},
   "source": [
    "## Data Creation"
   ]
  },
  {
   "cell_type": "code",
   "execution_count": 3,
   "metadata": {},
   "outputs": [
    {
     "name": "stdout",
     "output_type": "stream",
     "text": [
      "[0.7015855  0.18442556 0.40836374 0.75924218 0.90704437 0.15043168\n",
      " 0.31418993 0.81428942 0.51656334 0.36088124 0.98111698 0.60725929\n",
      " 0.2795529  0.12128383 0.99948948 0.11199554 0.81169105 0.1343652\n",
      " 0.75296467 0.44001095]\n"
     ]
    }
   ],
   "source": [
    "r = np.random.random((Dn,))\n",
    "def f(x):\n",
    "    return ((x - r)**4).sum()\n",
    "\n",
    "print r"
   ]
  },
  {
   "cell_type": "markdown",
   "metadata": {},
   "source": [
    "## Population Generation"
   ]
  },
  {
   "cell_type": "code",
   "execution_count": 4,
   "metadata": {},
   "outputs": [
    {
     "name": "stdout",
     "output_type": "stream",
     "text": [
      "500\n"
     ]
    }
   ],
   "source": [
    "# Generate population\n",
    "pop = []\n",
    "\n",
    "for ix in range(NP):\n",
    "    # generate a random vector\n",
    "    vec = np.random.uniform(-10, 10, (Dn,))\n",
    "    \n",
    "    # Add to population\n",
    "    pop.append(vec)\n",
    "\n",
    "print len(pop)"
   ]
  },
  {
   "cell_type": "markdown",
   "metadata": {},
   "source": [
    "## Defining Functions for Mutation and Crossover"
   ]
  },
  {
   "cell_type": "code",
   "execution_count": 5,
   "metadata": {},
   "outputs": [],
   "source": [
    "def crossover(parent_1, parent_2):\n",
    "    child_1 = np.zeros(parent_1.shape)\n",
    "    child_2 = np.zeros(parent_2.shape)\n",
    "    \n",
    "    dim = int(parent_1.shape[0] / 2.0)\n",
    "    \n",
    "    child_1[:dim] = parent_1[:dim]\n",
    "    child_1[dim:] = parent_2[dim:]\n",
    "    \n",
    "    child_2[:dim] = parent_2[:dim]\n",
    "    child_2[dim:] = parent_1[dim:]\n",
    "    \n",
    "    return child_1, child_2\n",
    "\n",
    "def mutate(x):\n",
    "    for ix in range(x.shape[0]):\n",
    "        # Generate a random number for probability\n",
    "        R = np.random.random()\n",
    "        \n",
    "        if R < M:\n",
    "            # Mutate random index \n",
    "            x[ix] = np.random.uniform(-5, 5)\n",
    "        else:\n",
    "            pass\n",
    "    return x"
   ]
  },
  {
   "cell_type": "markdown",
   "metadata": {},
   "source": [
    "## Optimizing function using Genetic Algorithm"
   ]
  },
  {
   "cell_type": "code",
   "execution_count": 6,
   "metadata": {},
   "outputs": [
    {
     "name": "stdout",
     "output_type": "stream",
     "text": [
      "Generation: 0 | Best Value: 10714.3283514\n",
      "Generation: 1 | Best Value: 5078.70311791\n",
      "Generation: 2 | Best Value: 3935.4925409\n",
      "Generation: 3 | Best Value: 1880.85251921\n",
      "Generation: 4 | Best Value: 1738.75099869\n",
      "Generation: 5 | Best Value: 1374.20494496\n",
      "Generation: 6 | Best Value: 771.618352824\n",
      "Generation: 7 | Best Value: 624.3521544\n",
      "Generation: 8 | Best Value: 512.960388502\n",
      "Generation: 9 | Best Value: 335.635941364\n",
      "Generation: 10 | Best Value: 290.102895976\n",
      "Generation: 11 | Best Value: 187.678531958\n",
      "Generation: 12 | Best Value: 137.874647568\n",
      "Generation: 13 | Best Value: 118.128712588\n",
      "Generation: 14 | Best Value: 94.0763334473\n",
      "Generation: 15 | Best Value: 66.7157442374\n",
      "Generation: 16 | Best Value: 66.7157442374\n",
      "Generation: 17 | Best Value: 18.0054728196\n",
      "Generation: 18 | Best Value: 18.0054728196\n",
      "Generation: 19 | Best Value: 18.0054728196\n",
      "Generation: 20 | Best Value: 13.4869121669\n",
      "Generation: 21 | Best Value: 9.98104127337\n",
      "Generation: 22 | Best Value: 7.72296034818\n",
      "Generation: 23 | Best Value: 5.56602323422\n",
      "Generation: 24 | Best Value: 5.56602323422\n",
      "Generation: 25 | Best Value: 4.07813248256\n",
      "Generation: 26 | Best Value: 4.07813248256\n",
      "Generation: 27 | Best Value: 4.07813248256\n",
      "Generation: 28 | Best Value: 4.07813248256\n",
      "Generation: 29 | Best Value: 3.53391790873\n",
      "Generation: 30 | Best Value: 2.7630364903\n",
      "Generation: 31 | Best Value: 2.72836407818\n",
      "Generation: 32 | Best Value: 2.58721502217\n",
      "Generation: 33 | Best Value: 2.58721502217\n",
      "Generation: 34 | Best Value: 2.06153854096\n",
      "Generation: 35 | Best Value: 1.97695955508\n",
      "Generation: 36 | Best Value: 1.97695955508\n",
      "Generation: 37 | Best Value: 1.70686893551\n",
      "Generation: 38 | Best Value: 1.70686893551\n",
      "Generation: 39 | Best Value: 1.64560362527\n",
      "Generation: 40 | Best Value: 1.64560362527\n",
      "Generation: 41 | Best Value: 1.48710309387\n",
      "Generation: 42 | Best Value: 1.48710309387\n",
      "Generation: 43 | Best Value: 1.48710309387\n",
      "Generation: 44 | Best Value: 1.48710309387\n",
      "Generation: 45 | Best Value: 1.19645051497\n",
      "Generation: 46 | Best Value: 1.16880423317\n",
      "Generation: 47 | Best Value: 1.16880423317\n",
      "Generation: 48 | Best Value: 1.14026243044\n",
      "Generation: 49 | Best Value: 1.13243348841\n",
      "Generation: 50 | Best Value: 0.794473512038\n",
      "Generation: 51 | Best Value: 0.794473512038\n",
      "Generation: 52 | Best Value: 0.794473512038\n",
      "Generation: 53 | Best Value: 0.794473512038\n",
      "Generation: 54 | Best Value: 0.592130330507\n",
      "Generation: 55 | Best Value: 0.476813965687\n",
      "Generation: 56 | Best Value: 0.476813965687\n",
      "Generation: 57 | Best Value: 0.476813965687\n",
      "Generation: 58 | Best Value: 0.476813965687\n",
      "Generation: 59 | Best Value: 0.476813965687\n",
      "Generation: 60 | Best Value: 0.476813965687\n",
      "Generation: 61 | Best Value: 0.476813965687\n",
      "Generation: 62 | Best Value: 0.476813965687\n",
      "Generation: 63 | Best Value: 0.476813965687\n",
      "Generation: 64 | Best Value: 0.441590323819\n",
      "Generation: 65 | Best Value: 0.441590323819\n",
      "Generation: 66 | Best Value: 0.441590323819\n",
      "Generation: 67 | Best Value: 0.441590323819\n",
      "Generation: 68 | Best Value: 0.42521680297\n",
      "Generation: 69 | Best Value: 0.315580824229\n",
      "Generation: 70 | Best Value: 0.315580824229\n",
      "Generation: 71 | Best Value: 0.315580824229\n",
      "Generation: 72 | Best Value: 0.315580824229\n",
      "Generation: 73 | Best Value: 0.315580824229\n",
      "Generation: 74 | Best Value: 0.245158033049\n",
      "Generation: 75 | Best Value: 0.245158033049\n",
      "Generation: 76 | Best Value: 0.231983939935\n",
      "Generation: 77 | Best Value: 0.231983939935\n",
      "Generation: 78 | Best Value: 0.208875966572\n",
      "Generation: 79 | Best Value: 0.208875966572\n",
      "Generation: 80 | Best Value: 0.208875966572\n",
      "Generation: 81 | Best Value: 0.208875966572\n",
      "Generation: 82 | Best Value: 0.191677242411\n",
      "Generation: 83 | Best Value: 0.161700409046\n",
      "Generation: 84 | Best Value: 0.161700409046\n",
      "Generation: 85 | Best Value: 0.161700409046\n",
      "Generation: 86 | Best Value: 0.14359507926\n",
      "Generation: 87 | Best Value: 0.143269629937\n",
      "Generation: 88 | Best Value: 0.143269629937\n",
      "Generation: 89 | Best Value: 0.137056947347\n",
      "Generation: 90 | Best Value: 0.137056947347\n",
      "Generation: 91 | Best Value: 0.137056947347\n",
      "Generation: 92 | Best Value: 0.137056947347\n",
      "Generation: 93 | Best Value: 0.136770674207\n",
      "Generation: 94 | Best Value: 0.136770674207\n",
      "Generation: 95 | Best Value: 0.133213668225\n",
      "Generation: 96 | Best Value: 0.125619997603\n",
      "Generation: 97 | Best Value: 0.112176888962\n",
      "Generation: 98 | Best Value: 0.104268610481\n",
      "Generation: 99 | Best Value: 0.104268610481\n",
      "Generation: 100 | Best Value: 0.104268610481\n",
      "Generation: 101 | Best Value: 0.104268610481\n",
      "Generation: 102 | Best Value: 0.0975558407898\n",
      "Generation: 103 | Best Value: 0.0975558407898\n",
      "Generation: 104 | Best Value: 0.0975558407898\n",
      "Generation: 105 | Best Value: 0.0975558407898\n",
      "Generation: 106 | Best Value: 0.0954410903836\n",
      "Generation: 107 | Best Value: 0.0625194261951\n",
      "Generation: 108 | Best Value: 0.0625194261951\n",
      "Generation: 109 | Best Value: 0.0625194261951\n",
      "Generation: 110 | Best Value: 0.0625194261951\n",
      "Generation: 111 | Best Value: 0.0625194261951\n",
      "Generation: 112 | Best Value: 0.0625194261951\n",
      "Generation: 113 | Best Value: 0.0619101421647\n",
      "Generation: 114 | Best Value: 0.0619101421647\n",
      "Generation: 115 | Best Value: 0.0523768377456\n",
      "Generation: 116 | Best Value: 0.0523768377456\n",
      "Generation: 117 | Best Value: 0.0523768377456\n",
      "Generation: 118 | Best Value: 0.0472343920161\n",
      "Generation: 119 | Best Value: 0.0470721339112\n",
      "Generation: 120 | Best Value: 0.0470721339112\n",
      "Generation: 121 | Best Value: 0.0470721339112\n",
      "Generation: 122 | Best Value: 0.0470721339112\n",
      "Generation: 123 | Best Value: 0.0470721339112\n",
      "Generation: 124 | Best Value: 0.0449634873944\n",
      "Generation: 125 | Best Value: 0.0448944637064\n",
      "Generation: 126 | Best Value: 0.0341323228211\n",
      "Generation: 127 | Best Value: 0.0341323228211\n",
      "Generation: 128 | Best Value: 0.0341323228211\n",
      "Generation: 129 | Best Value: 0.0341323228211\n",
      "Generation: 130 | Best Value: 0.0341323228211\n",
      "Generation: 131 | Best Value: 0.032097436064\n",
      "Generation: 132 | Best Value: 0.0308812391594\n",
      "Generation: 133 | Best Value: 0.0308812391594\n",
      "Generation: 134 | Best Value: 0.0308812391594\n",
      "Generation: 135 | Best Value: 0.0308812391594\n",
      "Generation: 136 | Best Value: 0.0253697205841\n",
      "Generation: 137 | Best Value: 0.021315667524\n",
      "Generation: 138 | Best Value: 0.021315667524\n",
      "Generation: 139 | Best Value: 0.021315667524\n",
      "Generation: 140 | Best Value: 0.021315667524\n",
      "Generation: 141 | Best Value: 0.021315667524\n",
      "Generation: 142 | Best Value: 0.021315667524\n",
      "Generation: 143 | Best Value: 0.021315667524\n",
      "Generation: 144 | Best Value: 0.021315667524\n",
      "Generation: 145 | Best Value: 0.021315667524\n",
      "Generation: 146 | Best Value: 0.0182811807205\n",
      "Generation: 147 | Best Value: 0.0182811807205\n",
      "Generation: 148 | Best Value: 0.0182811807205\n",
      "Generation: 149 | Best Value: 0.0155304274172\n",
      "Generation: 150 | Best Value: 0.0155304274172\n",
      "Generation: 151 | Best Value: 0.0155304274172\n",
      "Generation: 152 | Best Value: 0.0155304274172\n",
      "Generation: 153 | Best Value: 0.0155304274172\n",
      "Generation: 154 | Best Value: 0.0155304274172\n",
      "Generation: 155 | Best Value: 0.0155304274172\n",
      "Generation: 156 | Best Value: 0.013754818162\n",
      "Generation: 157 | Best Value: 0.013754818162\n",
      "Generation: 158 | Best Value: 0.013754818162\n",
      "Generation: 159 | Best Value: 0.013754818162\n",
      "Generation: 160 | Best Value: 0.0136333833825\n",
      "Generation: 161 | Best Value: 0.0136333833825\n",
      "Generation: 162 | Best Value: 0.0127316574435\n",
      "Generation: 163 | Best Value: 0.0123124313178\n",
      "Generation: 164 | Best Value: 0.0123124313178\n",
      "Generation: 165 | Best Value: 0.0123124313178\n",
      "Generation: 166 | Best Value: 0.0123124313178\n",
      "Generation: 167 | Best Value: 0.0123124313178\n",
      "Generation: 168 | Best Value: 0.0110187063956\n",
      "Generation: 169 | Best Value: 0.0103216700039\n",
      "Generation: 170 | Best Value: 0.0103216700039\n",
      "Generation: 171 | Best Value: 0.0103216700039\n",
      "Generation: 172 | Best Value: 0.0088320686283\n",
      "Generation: 173 | Best Value: 0.0088320686283\n",
      "Generation: 174 | Best Value: 0.0088320686283\n",
      "Generation: 175 | Best Value: 0.0088320686283\n",
      "Generation: 176 | Best Value: 0.0088320686283\n",
      "Generation: 177 | Best Value: 0.00874033543871\n",
      "Generation: 178 | Best Value: 0.00874033543871\n",
      "Generation: 179 | Best Value: 0.00874033543871\n",
      "Generation: 180 | Best Value: 0.00874033543871\n",
      "Generation: 181 | Best Value: 0.00874033543871\n",
      "Generation: 182 | Best Value: 0.00874033543871\n",
      "Generation: 183 | Best Value: 0.00874033543871\n",
      "Generation: 184 | Best Value: 0.00874033543871\n",
      "Generation: 185 | Best Value: 0.00840705171872\n"
     ]
    },
    {
     "name": "stdout",
     "output_type": "stream",
     "text": [
      "Generation: 186 | Best Value: 0.00825593835079\n",
      "Generation: 187 | Best Value: 0.00825593835079\n",
      "Generation: 188 | Best Value: 0.00825593835079\n",
      "Generation: 189 | Best Value: 0.00682311460107\n",
      "Generation: 190 | Best Value: 0.00682311460107\n",
      "Generation: 191 | Best Value: 0.00682311460107\n",
      "Generation: 192 | Best Value: 0.00663210232443\n",
      "Generation: 193 | Best Value: 0.00663210232443\n",
      "Generation: 194 | Best Value: 0.00663210232443\n",
      "Generation: 195 | Best Value: 0.00663210232443\n",
      "Generation: 196 | Best Value: 0.00663210232443\n",
      "Generation: 197 | Best Value: 0.00640201084517\n",
      "Generation: 198 | Best Value: 0.00568747271961\n",
      "Generation: 199 | Best Value: 0.00568747271961\n"
     ]
    }
   ],
   "source": [
    "loss = []\n",
    "\n",
    "# Main Genetic Algo loop\n",
    "for gx in range(G):\n",
    "    pop = sorted(pop, key=lambda z: f(z))\n",
    "    print \"Generation: {} | Best Value: {}\".format(gx, f(pop[0]))\n",
    "    loss.append(f(pop[0]))\n",
    "    \n",
    "    # create a temp population\n",
    "    temp = []\n",
    "    \n",
    "    while not len(temp) == NP:\n",
    "        # Select 2 parents from good section of population\n",
    "        p1, p2 = random.sample(pop[:int(NP/2.0)], 2)\n",
    "        \n",
    "        # Apply crossover\n",
    "        c1, c2 = crossover(p1, p2)\n",
    "        \n",
    "        # mutate\n",
    "        c1 = mutate(c1)\n",
    "        c2 = mutate(c2)\n",
    "        \n",
    "        temp.append(c1)\n",
    "        temp.append(c2)\n",
    "    \n",
    "    # create a combined population\n",
    "    comb = temp + pop\n",
    "    \n",
    "    # survival of the fittest\n",
    "    pop = sorted(comb, key=lambda z: f(z))[:NP]"
   ]
  },
  {
   "cell_type": "markdown",
   "metadata": {},
   "source": [
    "## Plotting Loss  "
   ]
  },
  {
   "cell_type": "code",
   "execution_count": 7,
   "metadata": {},
   "outputs": [
    {
     "data": {
      "text/plain": [
       "[<matplotlib.lines.Line2D at 0x7f001f79c650>]"
      ]
     },
     "execution_count": 7,
     "metadata": {},
     "output_type": "execute_result"
    },
    {
     "data": {
      "image/png": "[encoded data removed]",
      "text/plain": [
       "<Figure size 432x288 with 1 Axes>"
      ]
     },
     "metadata": {},
     "output_type": "display_data"
    }
   ],
   "source": [
    "sns.plt.plot(loss)"
   ]
  },
  {
   "cell_type": "code",
   "execution_count": 8,
   "metadata": {},
   "outputs": [
    {
     "name": "stdout",
     "output_type": "stream",
     "text": [
      "[0.58471097 0.24907022 0.51459379 0.86143746 0.88548866 0.22772726\n",
      " 0.11851245 0.9443935  0.56454865 0.23318256 1.07247373 0.61389853\n",
      " 0.377345   0.27541819 0.82109745 0.26771548 0.75611745 0.17298758\n",
      " 0.72452014 0.26933616] [0.7015855  0.18442556 0.40836374 0.75924218 0.90704437 0.15043168\n",
      " 0.31418993 0.81428942 0.51656334 0.36088124 0.98111698 0.60725929\n",
      " 0.2795529  0.12128383 0.99948948 0.11199554 0.81169105 0.1343652\n",
      " 0.75296467 0.44001095]\n"
     ]
    }
   ],
   "source": [
    "print pop[0], r"
   ]
  },
  {
   "cell_type": "code",
   "execution_count": null,
   "metadata": {
    "collapsed": true
   },
   "outputs": [],
   "source": []
  }
 ],
 "metadata": {
  "kernelspec": {
   "display_name": "Python 2",
   "language": "python",
   "name": "python2"
  },
  "language_info": {
   "codemirror_mode": {
    "name": "ipython",
    "version": 2
   },
   "file_extension": ".py",
   "mimetype": "text/x-python",
   "name": "python",
   "nbconvert_exporter": "python",
   "pygments_lexer": "ipython2",
   "version": "2.7.12"
  }
 },
 "nbformat": 4,
 "nbformat_minor": 2
}
